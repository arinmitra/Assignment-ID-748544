{
 "cells": [
  {
   "cell_type": "code",
   "execution_count": 10,
   "id": "a452cf05",
   "metadata": {},
   "outputs": [
    {
     "name": "stdout",
     "output_type": "stream",
     "text": [
      "First few rows of the climate data:\n",
      "         date   meantemp   humidity  wind_speed  meanpressure\n",
      "0  2017-01-01  15.913043  85.869565    2.743478     59.000000\n",
      "1  2017-01-02  18.500000  77.222222    2.894444   1018.277778\n",
      "2  2017-01-03  17.111111  81.888889    4.016667   1018.333333\n",
      "3  2017-01-04  18.700000  70.050000    4.545000   1015.700000\n",
      "4  2017-01-05  18.388889  74.944444    3.300000   1014.333333\n",
      "\n",
      "Data types of each column:\n",
      "date             object\n",
      "meantemp        float64\n",
      "humidity        float64\n",
      "wind_speed      float64\n",
      "meanpressure    float64\n",
      "dtype: object\n",
      "\n",
      "Shape of the DataFrame: (114, 5)\n"
     ]
    }
   ],
   "source": [
    "#########################################################\n",
    "# This file is part of the assignment for the course    #\n",
    "# \"AI Driven Data Analytics Course\" by Skillarbitrage   #\n",
    "# Assignment ID: 748544                                 #\n",
    "# Submissions of weekly Exercises for                   #\n",
    "# Exercises on AI-Powered Automation for Data Science   # \n",
    "# Using GitHub Copilot in VS Code                       #\n",
    "# Week Duration: 15/06/2025 to 22/06/2025               #\n",
    "#                                                       #\n",
    "# Student Name : Arindam Mitra                          #\n",
    "# Registration Code: STU20250430/14045                  #\n",
    "# Email: arinmitra@gmail.com                            #\n",
    "#                                                       #\n",
    "# Tutor - Mohit Sharma (mohit.sharma@skillarbitra.ge),  #\n",
    "# Host - Ritu Verma (ritu.varma@skillarbitra.ge)        #\n",
    "#########################################################\n",
    "\n",
    "# Exercise 2: Creating an Automated Climate Data Dashboard with Copilot\n",
    "# Task 1: Setup and Data Import (Import Libraries & Read Data)\n",
    "\"\"\" \n",
    "Setup and Data Import\n",
    "○ Start a new Python script or notebook for this exercise. \n",
    "Import pandas and your preferred visualization libraries \n",
    "(matplotlib.pyplot and optionally seaborn for styling). \n",
    "You might also import datetime or pandas.to_datetime for date handling, \n",
    "though pandas can handle it directly.\n",
    "\n",
    "○ Load the dataset into a DataFrame. (Use the correct filename from \n",
    "the Kaggle data download. The fi le might be named slightly differently, \n",
    "e.g., DailyDelhiClimateTest.csv/Train.csv if the dataset was split, \n",
    "or a single CSV file. Check the Kaggle download for the exact name and use that.)\n",
    "\n",
    "○ After loading, quickly inspect the data with df.head() to ensure it \n",
    "read correctly. You should see columns for date, meantemp, humidity, wind_speed, meanpressure.\n",
    "\n",
    "\"\"\"\n",
    "\n",
    "import pandas as pd\n",
    "import matplotlib.pyplot as plt\n",
    "import seaborn as sns\n",
    "import numpy as np\n",
    "\n",
    "# Read the climate data CSV file\n",
    "file_path = 'DailyDelhiClimateTest.csv' \n",
    "climate_data = pd.read_csv(file_path)\n",
    "\n",
    "# Display the first few rows of the dataset\n",
    "print(\"First few rows of the climate data:\")\n",
    "print(climate_data.head())\n",
    "# Display the data types of each column\n",
    "print(\"\\nData types of each column:\")\n",
    "print(climate_data.dtypes)\n",
    "\n",
    "# Display the shape of the DataFrame\n",
    "print(\"\\nShape of the DataFrame:\", climate_data.shape)\n",
    "\n",
    "\n"
   ]
  },
  {
   "cell_type": "code",
   "execution_count": 9,
   "id": "e147922e",
   "metadata": {},
   "outputs": [
    {
     "name": "stdout",
     "output_type": "stream",
     "text": [
      "\n",
      "Shape of the DataFrame: (114, 5)\n"
     ]
    }
   ],
   "source": [
    "import pandas as pd\n",
    "\n",
    "# Load the dataset into a DataFrame\n",
    "# Read the climate data CSV file\n",
    "file_path = 'DailyDelhiClimateTest.csv' \n",
    "climate_data = pd.read_csv(file_path)\n",
    "\n",
    "climate_data.shape # Display the shape of the DataFrame\n",
    "print(\"\\nShape of the DataFrame:\", climate_data.shape)  "
   ]
  }
 ],
 "metadata": {
  "kernelspec": {
   "display_name": "env",
   "language": "python",
   "name": "python3"
  },
  "language_info": {
   "codemirror_mode": {
    "name": "ipython",
    "version": 3
   },
   "file_extension": ".py",
   "mimetype": "text/x-python",
   "name": "python",
   "nbconvert_exporter": "python",
   "pygments_lexer": "ipython3",
   "version": "3.12.0"
  }
 },
 "nbformat": 4,
 "nbformat_minor": 5
}
